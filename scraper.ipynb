{
 "cells": [
  {
   "cell_type": "markdown",
   "metadata": {},
   "source": [
    "# Ceneo Scraper\n"
   ]
  },
  {
   "cell_type": "markdown",
   "metadata": {},
   "source": [
    "## Components of single opinion\n",
    "|Component|Selector|Variable|\n",
    "|---------|--------|--------|\n",
    "|Opinion ID|page_dom['data-entry-id']|opinion_id|\n",
    "|opinion's author|span.user-post__author-name|author|\n",
    "|author's recommendation|span.user-post__author-recommendation>em |recommendation|\n",
    "|score expressed in number of stars|span.user-post__score-count|score|\n",
    "|opinion’s content|div.user-post__text|content|\n",
    "| list of product advantages|div.review-feature__title review-feature__title--positives ~ div.review-feature__item|pros|\n",
    "| list of product disadvantages|div.review-feature__title review-feature__title--negatives ~ div.review-feature__item|cons|\n",
    "| how many users think that opinion was helpful|span[id=\"votes-yes]|helpful|\n",
    "| how many users think that opinion was unhelpful|span[id=\"votes-no]|unhelpful|\n",
    "| publishing date|span.user-post__published > time:nth-child(1)|publish_date|\n",
    "| purchase date|span.user-post__published >time:nth-child(2)|purchase_date|\n",
    "\n"
   ]
  },
  {
   "cell_type": "markdown",
   "metadata": {},
   "source": [
    "# Structure of single opinion"
   ]
  },
  {
   "cell_type": "code",
   "execution_count": null,
   "metadata": {},
   "outputs": [],
   "source": [
    "selectors={\n",
    "    \"opinion_id\":[None,'data-entry-id'],\n",
    "    \"author\":[\"span.user-post__author-name\"],\n",
    "    \"recommendation\":[\"span.user-post__author-recomendation>em\"],\n",
    "    \"score\":[\"span.user-post__score-count\"],\n",
    "    \"content\":[\"div.user-post__text\"],\n",
    "    \"pros\":[\"div.review-feature__title--positives ~ div.review-feature__item\",None,True],\n",
    "    \"cons\":[\"div.review-feature__title--negatives ~ div.review-feature__item\",None,True],\n",
    "    \"helpful\":[\"button.vote-yes >span\"],\n",
    "    \"unhelpful\":[\"button.vote-no >span\"],\n",
    "    \"publish_date\":[\"span.user-post__published > time:nth-child(1)\",\"datetime\"],\n",
    "    \"purchase_date\":[\"span.user-post__published >time:nth-child(2)\",\"datetime\"],\n",
    "}\n"
   ]
  },
  {
   "cell_type": "markdown",
   "metadata": {},
   "source": [
    "## Loading Libraries"
   ]
  },
  {
   "cell_type": "code",
   "execution_count": null,
   "metadata": {},
   "outputs": [],
   "source": [
    "import json\n",
    "from deep_translator import GoogleTranslator\n",
    "import os\n",
    "import requests\n",
    "from bs4 import BeautifulSoup"
   ]
  },
  {
   "cell_type": "markdown",
   "metadata": {},
   "source": [
    "## Function that extracts HTML"
   ]
  },
  {
   "cell_type": "code",
   "execution_count": null,
   "metadata": {},
   "outputs": [],
   "source": [
    "def extract(ancestor, selector, attribute = None , return_list = False):\n",
    "    if return_list:\n",
    "        if attribute:\n",
    "            return [p[attribute] for p in ancestor.select(selector)]\n",
    "        return [p.get_text().strip() for p in ancestor.select(selector)]\n",
    "    if selector:\n",
    "        if attribute:\n",
    "            try:\n",
    "                return ancestor.select_one(selector)[attribute]\n",
    "            except TypeError:\n",
    "                return  None\n",
    "        try:\n",
    "            return ancestor.select_one(selector).get_text().strip()\n",
    "        except AttributeError:\n",
    "            return None\n",
    "    if attribute:\n",
    "        return ancestor[attribute]\n",
    "    return None"
   ]
  },
  {
   "cell_type": "markdown",
   "metadata": {},
   "source": [
    "## TRANSFORMATION FUNCTIONS"
   ]
  },
  {
   "cell_type": "code",
   "execution_count": null,
   "metadata": {},
   "outputs": [],
   "source": [
    "def rate(score):\n",
    "    score = score.split(\"/\")\n",
    "    return float(score[0].replace(\",\",\".\"))/float(score[1].replace(\",\",\".\"))\n",
    "def reccomend(reccomendation):\n",
    "    return True if reccomendation == 'Polecam' else False if reccomendation == 'Nie polecam' else None"
   ]
  },
  {
   "cell_type": "markdown",
   "metadata": {},
   "source": [
    "## Translation"
   ]
  },
  {
   "cell_type": "code",
   "execution_count": null,
   "metadata": {},
   "outputs": [],
   "source": [
    "\n",
    "def translate(text,to_Lang=\"en\",from_lang=\"pl\"):\n",
    "    if text:\n",
    "        if isinstance(text,list):\n",
    "            return {from_lang:text,\n",
    "                    to_Lang:[GoogleTranslator(source=from_lang,target=to_Lang).translate(i) for i in text]}\n",
    "        return {from_lang:text,\n",
    "                to_Lang:GoogleTranslator(source=from_lang,target=to_Lang).translate(text)}\n",
    "    return None"
   ]
  },
  {
   "cell_type": "markdown",
   "metadata": {},
   "source": [
    "# saving all opinions to JSON file"
   ]
  },
  {
   "cell_type": "code",
   "execution_count": null,
   "metadata": {},
   "outputs": [],
   "source": [
    "transformations = {\n",
    "    \"recommendation\" :  reccomend,\n",
    "    \"score\" :  rate,\n",
    "    \"helpful\" :  int,\n",
    "    \"unhelpful\" : int,\n",
    "    \"content\":translate,\n",
    "    \"pros\":translate,\n",
    "    \"cons\":translate\n",
    "}"
   ]
  },
  {
   "cell_type": "markdown",
   "metadata": {},
   "source": [
    "## URL for the first page with opinions of product"
   ]
  },
  {
   "cell_type": "code",
   "execution_count": null,
   "metadata": {},
   "outputs": [],
   "source": [
    "product_id =input(\"Please provide Ceneo.pl code: \")\n",
    "url = f\"https://www.ceneo.pl/{product_id}#tab=reviews\""
   ]
  },
  {
   "cell_type": "markdown",
   "metadata": {},
   "source": [
    "# Extracting opinions from HTML code"
   ]
  },
  {
   "cell_type": "code",
   "execution_count": null,
   "metadata": {},
   "outputs": [],
   "source": [
    "all_opinions = []\n",
    "while(url):\n",
    "    print(url)\n",
    "    response = requests.get(url)\n",
    "    page_dom = BeautifulSoup(response.text , 'html.parser')\n",
    "    opinions = page_dom.select('.js_product-review')\n",
    "    for opinion in opinions:\n",
    "        single_opinion = {\n",
    "            key : extract(opinion , *value)\n",
    "                for key, value in selectors.items()\n",
    "        }\n",
    "        for key, value in transformations.items():\n",
    "            single_opinion[key] = value(single_opinion[key])\n",
    "            print(single_opinion[key])\n",
    "        all_opinions.append(single_opinion)\n",
    "    try:\n",
    "        url = \"https://www.ceneo.pl\"+extract(page_dom, 'a.pagination__next', 'href')\n",
    "    except TypeError:\n",
    "        url = None\n"
   ]
  },
  {
   "cell_type": "markdown",
   "metadata": {},
   "source": [
    "## Extracting components for single opinion"
   ]
  },
  {
   "cell_type": "code",
   "execution_count": null,
   "metadata": {},
   "outputs": [],
   "source": [
    "if not os.path.exists('opinions'):\n",
    "    os.mkdir('opinions')\n",
    "jf = open(f'opinions/{product_id}.json' , 'w' , encoding='UTF-8')\n",
    "json.dump(all_opinions, jf, indent=4, ensure_ascii=False)\n",
    "jf.close()"
   ]
  }
 ],
 "metadata": {
  "kernelspec": {
   "display_name": ".venv",
   "language": "python",
   "name": "python3"
  },
  "language_info": {
   "codemirror_mode": {
    "name": "ipython",
    "version": 3
   },
   "file_extension": ".py",
   "mimetype": "text/x-python",
   "name": "python",
   "nbconvert_exporter": "python",
   "pygments_lexer": "ipython3",
   "version": "3.10.11"
  }
 },
 "nbformat": 4,
 "nbformat_minor": 2
}
